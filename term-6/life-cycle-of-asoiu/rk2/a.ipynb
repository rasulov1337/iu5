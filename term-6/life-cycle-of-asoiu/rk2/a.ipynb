{
 "cells": [
  {
   "cell_type": "code",
   "execution_count": 10,
   "metadata": {},
   "outputs": [],
   "source": [
    "import numpy as np\n",
    "import scipy.stats as stats\n",
    "import matplotlib.pyplot as plt"
   ]
  },
  {
   "cell_type": "code",
   "execution_count": null,
   "metadata": {},
   "outputs": [],
   "source": [
    "def task_A():\n",
    "    data = np.array([8, 5, 10, 8, 4, 6, 7, 8, 7, 10])\n",
    "\n",
    "    # Вычисление выборочного среднего и стандартного отклонения\n",
    "    mean_x = np.mean(data)\n",
    "    std_x = np.std(data, ddof=1)\n",
    "    n = len(data)\n",
    "\n",
    "    # 1. Определяем доверительную вероятность для e = 1\n",
    "    e1 = 1\n",
    "    t_value_1 = e1 * np.sqrt(n) / std_x\n",
    "    p_value = 2 * (1 - stats.t.cdf(t_value_1, df=n-1))\n",
    "\n",
    "    # 2. Определяем необходимое число измерений для e = 0.5, P = 0.99\n",
    "    e2 = 1\n",
    "    t_value_2 = stats.t.ppf(0.9975, df=n-1)  # t-критическое для 99.9% доверительного уровня\n",
    "    n_required = (t_value_2 * std_x / e2) ** 2\n",
    "\n",
    "    print(f\"Доверительная вероятность для e = 1: {p_value:.3f}\")\n",
    "    print(f\"Необходимое число измерений для e = 1 и P = 0.999: {int(np.ceil(n_required))}\")"
   ]
  },
  {
   "cell_type": "code",
   "execution_count": 12,
   "metadata": {},
   "outputs": [
    {
     "name": "stdout",
     "output_type": "stream",
     "text": [
      "Доверительная вероятность для e = 1: 0.139\n",
      "Необходимое число измерений для e = 1 и P = 0.999: 52\n"
     ]
    }
   ],
   "source": [
    "task_A()"
   ]
  }
 ],
 "metadata": {
  "kernelspec": {
   "display_name": ".venv",
   "language": "python",
   "name": "python3"
  },
  "language_info": {
   "codemirror_mode": {
    "name": "ipython",
    "version": 3
   },
   "file_extension": ".py",
   "mimetype": "text/x-python",
   "name": "python",
   "nbconvert_exporter": "python",
   "pygments_lexer": "ipython3",
   "version": "3.12.3"
  }
 },
 "nbformat": 4,
 "nbformat_minor": 2
}
